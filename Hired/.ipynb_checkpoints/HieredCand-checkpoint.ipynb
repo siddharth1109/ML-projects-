{
 "cells": [
  {
   "cell_type": "code",
   "execution_count": 1,
   "metadata": {
    "collapsed": true
   },
   "outputs": [],
   "source": [
    "from tkinter import *\n",
    "import numpy as np\n",
    "import pandas as pd\n",
    "\n",
    "df=pd.read_csv(\"Data.csv\")"
   ]
  },
  {
   "cell_type": "code",
   "execution_count": 2,
   "metadata": {
    "collapsed": true
   },
   "outputs": [],
   "source": [
    "root = Tk()\n",
    "root.configure(background='navyblue')\n"
   ]
  },
  {
   "cell_type": "code",
   "execution_count": 3,
   "metadata": {
    "collapsed": false
   },
   "outputs": [],
   "source": [
    "# entry variables\n",
    "name = StringVar()\n",
    "percent = StringVar()\n",
    "backlog = StringVar()\n",
    "intern = StringVar()\n",
    "firstround = StringVar()\n",
    "commskills = StringVar()\n",
    "\n",
    "\n",
    "# photo\n",
    "logo = PhotoImage(file=\"download.png\", height=200, width=220)\n",
    "w1 = Label(root, image=logo).grid(row=0, column=3, columnspan=2)\n",
    "\n",
    "# Heading\n",
    "w2 = Label(root, justify=LEFT, text=\"Nucleus Computers Ltd.\", fg=\"white\", bg=\"navyblue\")\n",
    "w2.config(font=(\"Elephant\", 20))\n",
    "w2.grid(row=0, column=0, columnspan=2, padx=200)"
   ]
  },
  {
   "cell_type": "code",
   "execution_count": 4,
   "metadata": {
    "collapsed": false,
    "deletable": true,
    "editable": true
   },
   "outputs": [],
   "source": [
    "# labels\n",
    "nameLb = Label(root, text=\"Name\", fg=\"white\", bg=\"navyblue\")\n",
    "nameLb.grid(row=1, column=0, pady=10, sticky=W)\n",
    "\n",
    "percentageLb = Label(root, text=\"PERCENTAGE\", fg=\"white\", bg=\"navyblue\")\n",
    "percentageLb.grid(row=2, column=0, pady=10, sticky=W)\n",
    "\n",
    "backlogLb = Label(root, text=\"BACKLOG\", fg=\"white\", bg=\"navyblue\")\n",
    "backlogLb.grid(row=3, column=0, pady=10, sticky=W)\n",
    "\n",
    "internLb = Label(root, text=\"INTERNSHIP\", fg=\"white\", bg=\"navyblue\")\n",
    "internLb.grid(row=4, column=0, pady=10, sticky=W)\n",
    "\n",
    "frLb = Label(root, text=\"FIRST ROUND\", fg=\"white\", bg=\"navyblue\")\n",
    "frLb.grid(row=5, column=0, pady=10, sticky=W)\n",
    "\n",
    "\n",
    "cmskillsLb = Label(root, text=\"COMMUNICATION SKILLS\", fg=\"white\", bg=\"navyblue\")\n",
    "cmskillsLb.grid(row=6, column=0, pady=10, sticky=W)\n",
    "\n",
    "resultLb = Label(root, text=\"RESULT\", fg=\"white\", bg=\"navyblue\")\n",
    "resultLb.grid(row=7, column=0, pady=10)\n",
    "\n",
    "destreeLb = Label(root, text=\"DecisionTree\", fg=\"white\", bg=\"navyblue\")\n",
    "destreeLb.grid(row=8, column=0, pady=10, sticky=W)\n",
    "\n",
    "ranfLb = Label(root, text=\"RandomForest\", fg=\"white\", bg=\"navyblue\")\n",
    "ranfLb.grid(row=9, column=0, pady=10, sticky=W)\n",
    "\n",
    "# entries\n",
    "\n",
    "nameEn = Entry(root, textvariable=name)\n",
    "nameEn.grid(row=1, column=2)\n",
    "\n",
    "perEn = Entry(root, textvariable=percent)\n",
    "perEn.grid(row=2, column=2)\n",
    "\n",
    "bklEn = Entry(root, textvariable=backlog)\n",
    "bklEn.grid(row=3, column=2)\n",
    "\n",
    "intEn = Entry(root, textvariable=intern)\n",
    "intEn.grid(row=4, column=2)\n",
    "\n",
    "frEn = Entry(root, textvariable=firstround)\n",
    "frEn.grid(row=5, column=2)\n",
    "\n",
    "comsEn = Entry(root, textvariable=commskills)\n",
    "comsEn.grid(row=6, column=2)\n",
    "\n"
   ]
  },
  {
   "cell_type": "code",
   "execution_count": 5,
   "metadata": {
    "collapsed": false
   },
   "outputs": [],
   "source": [
    "feature_cols = [\"PERCENTAGE\",\"BACKLOG\",\"INTERNSHIP\",\"FIRSTROUND\",\"COMMUNICATIONSKILLLS\"]\n",
    "X = df[feature_cols]\n",
    "y = df[\"Hired\"]\n"
   ]
  },
  {
   "cell_type": "code",
   "execution_count": 6,
   "metadata": {
    "collapsed": false
   },
   "outputs": [
    {
     "name": "stderr",
     "output_type": "stream",
     "text": [
      "C:\\Users\\Siddharth\\AppData\\Local\\Enthought\\Canopy\\edm\\envs\\User\\lib\\site-packages\\sklearn\\cross_validation.py:44: DeprecationWarning: This module was deprecated in version 0.18 in favor of the model_selection module into which all the refactored classes and functions are moved. Also note that the interface of the new CV iterators are different from that of this module. This module will be removed in 0.20.\n",
      "  \"This module will be removed in 0.20.\", DeprecationWarning)\n"
     ]
    },
    {
     "data": {
      "text/plain": [
       "LinearRegression(copy_X=True, fit_intercept=True, n_jobs=1, normalize=False)"
      ]
     },
     "execution_count": 6,
     "metadata": {},
     "output_type": "execute_result"
    }
   ],
   "source": [
    "from sklearn.linear_model import LinearRegression\n",
    "from sklearn.cross_validation import train_test_split\n",
    "X_train, X_test, y_train, y_test = train_test_split(X, y, test_size=0.2, random_state=0)\n",
    "model = LinearRegression()\n",
    "model.fit(X_train,y_train)"
   ]
  },
  {
   "cell_type": "code",
   "execution_count": 7,
   "metadata": {
    "collapsed": false
   },
   "outputs": [],
   "source": [
    "# inputTest = df[perEn.get(), bklEn.get(),intEn.get(),\n",
    "#              frEn.get(),comsEn.get()]\n",
    "\n",
    "# inputTest = df[\"PERCENTAGE\":perEn.get(),\"BACKLOG\": bklEn.get(),\"INTERNSHIP\":intEn.get(),\n",
    "#              \"FIRSTROUND\":frEn.get(),\"COMMUNICATIONSKILLS\":comsEn.get()]\n",
    "\n",
    "# inputTest = np.array([float(perEn.get()), float(bklEn.get()),float(intEn.get()),float(frEn.get()),float(comsEn.get())]).reshape(1,-1) \n",
    "# predicted = model.predict(inputTest)\n",
    "# inputTest = np.array([perEn.get(), bklEn.get(),intEn.get(),frEn.get(),comsEn.get()]).reshape(1,-1) \n",
    "\n",
    "# inputTest = np.array([80,1,1,88,90]).reshape(1,-1)\n",
    "# predicted = model.predict(inputTest)\n",
    "# print(predicted)\n"
   ]
  },
  {
   "cell_type": "code",
   "execution_count": 8,
   "metadata": {
    "collapsed": false
   },
   "outputs": [],
   "source": [
    "\n",
    "# functions\n",
    "def decisiontree():\n",
    "    \n",
    "    inputTest = np.array([float(perEn.get()), float(bklEn.get()),float(intEn.get()),float(frEn.get()),float(comsEn.get())]).reshape(1,-1) \n",
    "    predicted = model.predict(inputTest)\n",
    "    if(predicted > 0.5):\n",
    "        t1.insert(END, \"Hired\")\n",
    "        t2.insert(END, \"Hired\")\n",
    "    else:\n",
    "        t1.insert(END, \"Not Hired\")\n",
    "        t2.insert(END, \"Not Hired\")"
   ]
  },
  {
   "cell_type": "code",
   "execution_count": 9,
   "metadata": {
    "collapsed": false
   },
   "outputs": [],
   "source": [
    "#giving values to all the fields\n",
    "# perEn.insert(END, df[\"PERCENTAGE\"].get(df[\"NAME\":nameEn.get()])"
   ]
  },
  {
   "cell_type": "code",
   "execution_count": 10,
   "metadata": {
    "collapsed": false,
    "deletable": true,
    "editable": true
   },
   "outputs": [],
   "source": [
    "# buttons\n",
    "\n",
    "dst = Button(root, text=\"DecisionTree\", command=decisiontree,bg=\"blue\",fg=\"white\")\n",
    "dst.grid(row=2, column=3)\n",
    "\n",
    "rnf = Button(root, text=\"Randomforest\", command=decisiontree,bg=\"blue\",fg=\"white\")\n",
    "rnf.grid(row=3, column=3)\n",
    "\n",
    "#textfileds\n",
    "t1 = Text(root, height=1, width=20,bg=\"navyblue\",fg=\"white\")\n",
    "t1.grid(row=8, column=1)\n",
    "\n",
    " \n",
    "t2 = Text(root, height=1, width=20,bg=\"navyblue\",fg=\"white\")\n",
    "t2.grid(row=9, column=1)\n",
    "\n"
   ]
  },
  {
   "cell_type": "code",
   "execution_count": 11,
   "metadata": {
    "collapsed": false
   },
   "outputs": [],
   "source": [
    "root.mainloop()"
   ]
  },
  {
   "cell_type": "code",
   "execution_count": null,
   "metadata": {
    "collapsed": true
   },
   "outputs": [],
   "source": []
  }
 ],
 "metadata": {
  "kernelspec": {
   "display_name": "Python 3",
   "language": "python",
   "name": "python3"
  },
  "language_info": {
   "codemirror_mode": {
    "name": "ipython",
    "version": 3
   },
   "file_extension": ".py",
   "mimetype": "text/x-python",
   "name": "python",
   "nbconvert_exporter": "python",
   "pygments_lexer": "ipython3",
   "version": "3.5.2"
  }
 },
 "nbformat": 4,
 "nbformat_minor": 2
}
