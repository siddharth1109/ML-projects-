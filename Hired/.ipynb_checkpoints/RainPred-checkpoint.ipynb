{
 "cells": [
  {
   "cell_type": "code",
   "execution_count": 1,
   "metadata": {
    "collapsed": true
   },
   "outputs": [],
   "source": [
    "from tkinter import *\n",
    "\n",
    "\n",
    "root = Tk()\n",
    "root.title(\"Welcome\")\n",
    "# entry variables \n",
    "year = StringVar()\n",
    "month = StringVar()\n",
    "day = StringVar()\n",
    "hour = StringVar()\n",
    "pm = StringVar()\n",
    "dew = StringVar()\n",
    "temp = StringVar()\n",
    "pres = StringVar()\n",
    "wdir = StringVar()\n",
    "wspd = StringVar()"
   ]
  },
  {
   "cell_type": "code",
   "execution_count": 2,
   "metadata": {
    "collapsed": false
   },
   "outputs": [
    {
     "ename": "TclError",
     "evalue": "couldn't open \"giphy.gif\": no such file or directory",
     "output_type": "error",
     "traceback": [
      "\u001b[1;31m---------------------------------------------------------------------------\u001b[0m",
      "\u001b[1;31mTclError\u001b[0m                                  Traceback (most recent call last)",
      "\u001b[1;32m<ipython-input-2-2e64726f968d>\u001b[0m in \u001b[0;36m<module>\u001b[1;34m()\u001b[0m\n\u001b[0;32m      3\u001b[0m \u001b[1;33m\u001b[0m\u001b[0m\n\u001b[0;32m      4\u001b[0m \u001b[1;31m# pick a .gif image file you have in the working directory\u001b[0m\u001b[1;33m\u001b[0m\u001b[1;33m\u001b[0m\u001b[0m\n\u001b[1;32m----> 5\u001b[1;33m \u001b[0mimage1\u001b[0m \u001b[1;33m=\u001b[0m \u001b[0mPhotoImage\u001b[0m\u001b[1;33m(\u001b[0m\u001b[0mfile\u001b[0m\u001b[1;33m=\u001b[0m\u001b[1;34m\"giphy.gif\"\u001b[0m\u001b[1;33m)\u001b[0m\u001b[1;33m\u001b[0m\u001b[0m\n\u001b[0m\u001b[0;32m      6\u001b[0m \u001b[1;31m# w = image1.width()\u001b[0m\u001b[1;33m\u001b[0m\u001b[1;33m\u001b[0m\u001b[0m\n\u001b[0;32m      7\u001b[0m \u001b[1;31m# h = image1.height()\u001b[0m\u001b[1;33m\u001b[0m\u001b[1;33m\u001b[0m\u001b[0m\n",
      "\u001b[1;32mC:\\Users\\Siddharth\\AppData\\Local\\Enthought\\Canopy\\edm\\envs\\User\\lib\\tkinter\\__init__.py\u001b[0m in \u001b[0;36m__init__\u001b[1;34m(self, name, cnf, master, **kw)\u001b[0m\n\u001b[0;32m   3392\u001b[0m         \u001b[0mValid\u001b[0m \u001b[0mresource\u001b[0m \u001b[0mnames\u001b[0m\u001b[1;33m:\u001b[0m \u001b[0mdata\u001b[0m\u001b[1;33m,\u001b[0m \u001b[0mformat\u001b[0m\u001b[1;33m,\u001b[0m \u001b[0mfile\u001b[0m\u001b[1;33m,\u001b[0m \u001b[0mgamma\u001b[0m\u001b[1;33m,\u001b[0m \u001b[0mheight\u001b[0m\u001b[1;33m,\u001b[0m \u001b[0mpalette\u001b[0m\u001b[1;33m,\u001b[0m\u001b[1;33m\u001b[0m\u001b[0m\n\u001b[0;32m   3393\u001b[0m         width.\"\"\"\n\u001b[1;32m-> 3394\u001b[1;33m         \u001b[0mImage\u001b[0m\u001b[1;33m.\u001b[0m\u001b[0m__init__\u001b[0m\u001b[1;33m(\u001b[0m\u001b[0mself\u001b[0m\u001b[1;33m,\u001b[0m \u001b[1;34m'photo'\u001b[0m\u001b[1;33m,\u001b[0m \u001b[0mname\u001b[0m\u001b[1;33m,\u001b[0m \u001b[0mcnf\u001b[0m\u001b[1;33m,\u001b[0m \u001b[0mmaster\u001b[0m\u001b[1;33m,\u001b[0m \u001b[1;33m**\u001b[0m\u001b[0mkw\u001b[0m\u001b[1;33m)\u001b[0m\u001b[1;33m\u001b[0m\u001b[0m\n\u001b[0m\u001b[0;32m   3395\u001b[0m     \u001b[1;32mdef\u001b[0m \u001b[0mblank\u001b[0m\u001b[1;33m(\u001b[0m\u001b[0mself\u001b[0m\u001b[1;33m)\u001b[0m\u001b[1;33m:\u001b[0m\u001b[1;33m\u001b[0m\u001b[0m\n\u001b[0;32m   3396\u001b[0m         \u001b[1;34m\"\"\"Display a transparent image.\"\"\"\u001b[0m\u001b[1;33m\u001b[0m\u001b[0m\n",
      "\u001b[1;32mC:\\Users\\Siddharth\\AppData\\Local\\Enthought\\Canopy\\edm\\envs\\User\\lib\\tkinter\\__init__.py\u001b[0m in \u001b[0;36m__init__\u001b[1;34m(self, imgtype, name, cnf, master, **kw)\u001b[0m\n\u001b[0;32m   3348\u001b[0m                 \u001b[0mv\u001b[0m \u001b[1;33m=\u001b[0m \u001b[0mself\u001b[0m\u001b[1;33m.\u001b[0m\u001b[0m_register\u001b[0m\u001b[1;33m(\u001b[0m\u001b[0mv\u001b[0m\u001b[1;33m)\u001b[0m\u001b[1;33m\u001b[0m\u001b[0m\n\u001b[0;32m   3349\u001b[0m             \u001b[0moptions\u001b[0m \u001b[1;33m=\u001b[0m \u001b[0moptions\u001b[0m \u001b[1;33m+\u001b[0m \u001b[1;33m(\u001b[0m\u001b[1;34m'-'\u001b[0m\u001b[1;33m+\u001b[0m\u001b[0mk\u001b[0m\u001b[1;33m,\u001b[0m \u001b[0mv\u001b[0m\u001b[1;33m)\u001b[0m\u001b[1;33m\u001b[0m\u001b[0m\n\u001b[1;32m-> 3350\u001b[1;33m         \u001b[0mself\u001b[0m\u001b[1;33m.\u001b[0m\u001b[0mtk\u001b[0m\u001b[1;33m.\u001b[0m\u001b[0mcall\u001b[0m\u001b[1;33m(\u001b[0m\u001b[1;33m(\u001b[0m\u001b[1;34m'image'\u001b[0m\u001b[1;33m,\u001b[0m \u001b[1;34m'create'\u001b[0m\u001b[1;33m,\u001b[0m \u001b[0mimgtype\u001b[0m\u001b[1;33m,\u001b[0m \u001b[0mname\u001b[0m\u001b[1;33m,\u001b[0m\u001b[1;33m)\u001b[0m \u001b[1;33m+\u001b[0m \u001b[0moptions\u001b[0m\u001b[1;33m)\u001b[0m\u001b[1;33m\u001b[0m\u001b[0m\n\u001b[0m\u001b[0;32m   3351\u001b[0m         \u001b[0mself\u001b[0m\u001b[1;33m.\u001b[0m\u001b[0mname\u001b[0m \u001b[1;33m=\u001b[0m \u001b[0mname\u001b[0m\u001b[1;33m\u001b[0m\u001b[0m\n\u001b[0;32m   3352\u001b[0m     \u001b[1;32mdef\u001b[0m \u001b[0m__str__\u001b[0m\u001b[1;33m(\u001b[0m\u001b[0mself\u001b[0m\u001b[1;33m)\u001b[0m\u001b[1;33m:\u001b[0m \u001b[1;32mreturn\u001b[0m \u001b[0mself\u001b[0m\u001b[1;33m.\u001b[0m\u001b[0mname\u001b[0m\u001b[1;33m\u001b[0m\u001b[0m\n",
      "\u001b[1;31mTclError\u001b[0m: couldn't open \"giphy.gif\": no such file or directory"
     ]
    }
   ],
   "source": [
    "# background photo \n",
    "\n",
    "\n",
    "# pick a .gif image file you have in the working directory\n",
    "image1 = PhotoImage(file=\"giphy.gif\")\n",
    "# w = image1.width()\n",
    "# h = image1.height()\n",
    "# \n",
    "# root.geometry(\"%dx%d+0+0\" % (w, h))\n",
    "\n",
    "# tk.Frame has no image argument\n",
    "# so use a label as a panel/frame\n",
    "panel1 = Label(root, image=image1)\n",
    "panel1.place(x=0, y=0, relwidth=1, relheight=1)\n",
    "# panel1.grid(row=0, column=1,columnspan = 3,sticky = N+W)\n",
    "\n",
    "\n",
    "\n",
    "# Heading\n",
    "w2 = Label(root, justify=LEFT, text=\"For how many hours will it rain today\")\n",
    "w2.config(font=(\"Elephant\", 32))\n",
    "w2.grid(row=0, column=0, columnspan=2, padx=150, pady=50)\n",
    "\n"
   ]
  },
  {
   "cell_type": "code",
   "execution_count": 3,
   "metadata": {
    "collapsed": true
   },
   "outputs": [],
   "source": [
    "# lables\n",
    "yearlb = Label(root, text=\"YEAR\", fg=\"white\", bg=\"navyblue\")\n",
    "yearlb.grid(row=1, column=0, pady=10, sticky=W)\n",
    "\n",
    "monthlb = Label(root, text=\"MONTH\", fg=\"white\", bg=\"navyblue\")\n",
    "monthlb.grid(row=2, column=0, pady=10, sticky=W)\n",
    "\n",
    "daylb = Label(root, text=\"DAY\", fg=\"white\", bg=\"navyblue\")\n",
    "daylb.grid(row=3, column=0, pady=10, sticky=W)\n",
    "\n",
    "hourlb = Label(root, text=\"HOUR\", fg=\"white\", bg=\"navyblue\")\n",
    "hourlb.grid(row=4, column=0, pady=10, sticky=W)\n",
    "\n",
    "pmlb = Label(root, text=\"PM 2.5\", fg=\"white\", bg=\"navyblue\")\n",
    "pmlb.grid(row=5, column=0, pady=10, sticky=W)\n",
    "\n",
    "\n",
    "dewlb = Label(root, text=\"DEW POINT\", fg=\"white\", bg=\"navyblue\")\n",
    "dewlb.grid(row=6, column=0, pady=10, sticky=W)\n",
    "\n",
    "templb = Label(root, text=\"TEMPERATURE\", fg=\"white\", bg=\"navyblue\")\n",
    "templb.grid(row=7, column=0, pady=10, sticky=W)\n",
    "\n",
    "preslb = Label(root, text=\"PRESSURE\", fg=\"white\", bg=\"navyblue\")\n",
    "preslb.grid(row=8, column=0, pady=10, sticky=W)\n",
    "\n",
    "wdirlb = Label(root, text=\"WIND DIRECTION\", fg=\"white\", bg=\"navyblue\")\n",
    "wdirlb.grid(row=9, column=0, pady=10, sticky=W)\n",
    "\n",
    "wspdlb = Label(root, text=\"WINDSPEED\", fg=\"white\", bg=\"navyblue\")\n",
    "wspdlb.grid(row=10, column=0, pady=10, sticky=W)\n",
    "\n",
    "hrainlb = Label(root, text=\"HOURS OF RAIN \", fg=\"white\", bg=\"navyblue\")\n",
    "hrainlb.grid(row=11, column=0, pady=10, sticky=W)\n",
    "\n",
    "hsnowlb = Label(root, text=\"HOURS OF SNOW\", fg=\"white\", bg=\"navyblue\")\n",
    "hsnowlb.grid(row=12, column=0, pady=10, sticky=W)\n",
    "\n",
    "# enteries\n",
    "\n",
    "yearEn = Entry(root, textvariable=year)\n",
    "yearEn.grid(row=1, column=2)\n",
    "\n",
    "monthEn = Entry(root, textvariable=month)\n",
    "monthEn.grid(row=2, column=2)\n",
    "\n",
    "dayEn = Entry(root, textvariable=day)\n",
    "dayEn.grid(row=3, column=2)\n",
    "\n",
    "hourEn = Entry(root, textvariable=hour)\n",
    "hourEn.grid(row=4, column=2)\n",
    "\n",
    "pmEn = Entry(root, textvariable=pm)\n",
    "pmEn.grid(row=5, column=2)\n",
    "\n",
    "dewEn = Entry(root, textvariable=dew)\n",
    "dewEn.grid(row=6, column=2)\n",
    "\n",
    "tempEn = Entry(root, textvariable=temp)\n",
    "tempEn.grid(row=7, column=2)\n",
    "\n",
    "presEN = Entry(root, textvariable=pres)\n",
    "presEN.grid(row=8, column=2)\n",
    "\n",
    "wdirEn = Entry(root, textvariable=wdir)\n",
    "wdirEn.grid(row=9, column=2)\n",
    "\n",
    "WspdEn = Entry(root, textvariable=wspd)\n",
    "WspdEn.grid(row=10, column=2)\n",
    "\n"
   ]
  },
  {
   "cell_type": "code",
   "execution_count": null,
   "metadata": {
    "collapsed": true
   },
   "outputs": [],
   "source": [
    "# function\n",
    "def calc():\n",
    "    pass\n",
    "\n"
   ]
  },
  {
   "cell_type": "code",
   "execution_count": null,
   "metadata": {
    "collapsed": true
   },
   "outputs": [],
   "source": [
    "# buttons\n",
    "cal = Button(root, text=\"    Go for it!     \", command=calc, bg=\"white\", fg=\"red\")\n",
    "cal.grid(row=5, column=3, padx=20, rowspan=2)\n",
    "cal.config(font=(\"Elephant\", 12))\n",
    "\n",
    "\n",
    "# textfileds\n",
    "t1 = Text(root, height=1, width=20, bg=\"white\", fg=\"red\")\n",
    "t1.grid(row=11, column=1)\n",
    "\n",
    " \n",
    "t2 = Text(root, height=1, width=20, bg=\"white\", fg=\"red\")\n",
    "t2.grid(row=12, column=1)\n",
    "\n",
    "\n"
   ]
  },
  {
   "cell_type": "code",
   "execution_count": null,
   "metadata": {
    "collapsed": true
   },
   "outputs": [],
   "source": [
    "root.mainloop()"
   ]
  }
 ],
 "metadata": {
  "kernelspec": {
   "display_name": "Python 3",
   "language": "python",
   "name": "python3"
  },
  "language_info": {
   "codemirror_mode": {
    "name": "ipython",
    "version": 3
   },
   "file_extension": ".py",
   "mimetype": "text/x-python",
   "name": "python",
   "nbconvert_exporter": "python",
   "pygments_lexer": "ipython3",
   "version": "3.5.2"
  }
 },
 "nbformat": 4,
 "nbformat_minor": 2
}
