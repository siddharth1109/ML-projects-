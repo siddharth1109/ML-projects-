{
 "cells": [
  {
   "cell_type": "code",
   "execution_count": 1,
   "metadata": {
    "collapsed": true,
    "deletable": true,
    "editable": true
   },
   "outputs": [],
   "source": [
    "from tkinter import *\n",
    "import numpy as np\n",
    "import pandas as pd\n",
    "\n",
    "df=pd.read_csv(\"Data.csv\")"
   ]
  },
  {
   "cell_type": "code",
   "execution_count": 2,
   "metadata": {
    "collapsed": true,
    "deletable": true,
    "editable": true
   },
   "outputs": [],
   "source": [
    "root = Tk()\n",
    "root.configure(background='navyblue')\n"
   ]
  },
  {
   "cell_type": "code",
   "execution_count": 3,
   "metadata": {
    "collapsed": false,
    "deletable": true,
    "editable": true
   },
   "outputs": [],
   "source": [
    "# entry variables\n",
    "name = StringVar()\n",
    "percent = StringVar()\n",
    "backlog = StringVar()\n",
    "intern = StringVar()\n",
    "firstround = StringVar()\n",
    "commskills = StringVar()\n",
    "\n",
    "\n",
    "# photo\n",
    "logo = PhotoImage(file=\"download.png\", height=200, width=220)\n",
    "w1 = Label(root, image=logo).grid(row=0, column=3, columnspan=2)\n",
    "\n",
    "# Heading\n",
    "w2 = Label(root, justify=LEFT, text=\"Nucleus Computers Ltd.\", fg=\"white\", bg=\"navyblue\")\n",
    "w2.config(font=(\"Elephant\", 20))\n",
    "w2.grid(row=0, column=0, columnspan=2, padx=200)"
   ]
  },
  {
   "cell_type": "code",
   "execution_count": 4,
   "metadata": {
    "collapsed": false,
    "deletable": true,
    "editable": true
   },
   "outputs": [],
   "source": [
    "# labels\n",
    "nameLb = Label(root, text=\"Name\", fg=\"white\", bg=\"navyblue\")\n",
    "nameLb.grid(row=1, column=0, pady=10, sticky=W)\n",
    "\n",
    "percentageLb = Label(root, text=\"PERCENTAGE\", fg=\"white\", bg=\"navyblue\")\n",
    "percentageLb.grid(row=2, column=0, pady=10, sticky=W)\n",
    "\n",
    "backlogLb = Label(root, text=\"BACKLOG\", fg=\"white\", bg=\"navyblue\")\n",
    "backlogLb.grid(row=3, column=0, pady=10, sticky=W)\n",
    "\n",
    "internLb = Label(root, text=\"INTERNSHIP\", fg=\"white\", bg=\"navyblue\")\n",
    "internLb.grid(row=4, column=0, pady=10, sticky=W)\n",
    "\n",
    "frLb = Label(root, text=\"FIRST ROUND\", fg=\"white\", bg=\"navyblue\")\n",
    "frLb.grid(row=5, column=0, pady=10, sticky=W)\n",
    "\n",
    "\n",
    "cmskillsLb = Label(root, text=\"COMMUNICATION SKILLS\", fg=\"white\", bg=\"navyblue\")\n",
    "cmskillsLb.grid(row=6, column=0, pady=10, sticky=W)\n",
    "\n",
    "resultLb = Label(root, text=\"RESULT\", fg=\"white\", bg=\"navyblue\")\n",
    "resultLb.grid(row=7, column=0, pady=10)\n",
    "\n",
    "destreeLb = Label(root, text=\"DecisionTree\", fg=\"white\", bg=\"navyblue\")\n",
    "destreeLb.grid(row=8, column=0, pady=10, sticky=W)\n",
    "\n",
    "ranfLb = Label(root, text=\"RandomForest\", fg=\"white\", bg=\"navyblue\")\n",
    "ranfLb.grid(row=9, column=0, pady=10, sticky=W)\n",
    "\n",
    "svcLb = Label(root, text=\"Svc\", fg=\"white\", bg=\"navyblue\")\n",
    "svcLb.grid(row=10, column=0, pady=10, sticky=W)\n",
    "\n",
    "# entries\n",
    "\n",
    "nameEn = Entry(root, textvariable=name)\n",
    "nameEn.grid(row=1, column=2)\n",
    "\n",
    "perEn = Entry(root, textvariable=percent)\n",
    "perEn.grid(row=2, column=2)\n",
    "\n",
    "bklEn = Entry(root, textvariable=backlog)\n",
    "bklEn.grid(row=3, column=2)\n",
    "\n",
    "intEn = Entry(root, textvariable=intern)\n",
    "intEn.grid(row=4, column=2)\n",
    "\n",
    "frEn = Entry(root, textvariable=firstround)\n",
    "frEn.grid(row=5, column=2)\n",
    "\n",
    "comsEn = Entry(root, textvariable=commskills)\n",
    "comsEn.grid(row=6, column=2)\n",
    "\n"
   ]
  },
  {
   "cell_type": "code",
   "execution_count": 5,
   "metadata": {
    "collapsed": false,
    "deletable": true,
    "editable": true
   },
   "outputs": [],
   "source": [
    "feature_cols = [\"PERCENTAGE\",\"BACKLOG\",\"INTERNSHIP\",\"FIRSTROUND\",\"COMMUNICATIONSKILLLS\"]\n",
    "X = df[feature_cols]\n",
    "y = df[\"Hired\"]\n"
   ]
  },
  {
   "cell_type": "code",
   "execution_count": 6,
   "metadata": {
    "collapsed": false,
    "deletable": true,
    "editable": true
   },
   "outputs": [
    {
     "name": "stderr",
     "output_type": "stream",
     "text": [
      "C:\\Users\\Siddharth\\AppData\\Local\\Enthought\\Canopy\\edm\\envs\\User\\lib\\site-packages\\sklearn\\cross_validation.py:44: DeprecationWarning: This module was deprecated in version 0.18 in favor of the model_selection module into which all the refactored classes and functions are moved. Also note that the interface of the new CV iterators are different from that of this module. This module will be removed in 0.20.\n",
      "  \"This module will be removed in 0.20.\", DeprecationWarning)\n"
     ]
    }
   ],
   "source": [
    "# from sklearn.linear_model import LinearRegression\n",
    "from sklearn.cross_validation import train_test_split\n",
    "X_train, X_test, y_train, y_test = train_test_split(X, y, test_size=0.2, random_state=0)\n",
    "# model = LinearRegression()\n",
    "# model.fit(X_train,y_train)"
   ]
  },
  {
   "cell_type": "code",
   "execution_count": 7,
   "metadata": {
    "collapsed": false,
    "deletable": true,
    "editable": true
   },
   "outputs": [],
   "source": [
    "from sklearn import tree\n",
    "clf = tree.DecisionTreeClassifier()\n",
    "clf = clf.fit(X_train,y_train)\n",
    "# clf"
   ]
  },
  {
   "cell_type": "code",
   "execution_count": 8,
   "metadata": {
    "collapsed": false,
    "deletable": true,
    "editable": true
   },
   "outputs": [],
   "source": [
    "from sklearn.ensemble import RandomForestClassifier\n",
    "\n",
    "clf2 = RandomForestClassifier(n_estimators = 10) #random forcast for 10 decision tree \n",
    "clf2 = clf2.fit(X,y)\n"
   ]
  },
  {
   "cell_type": "code",
   "execution_count": 9,
   "metadata": {
    "collapsed": true,
    "deletable": true,
    "editable": true
   },
   "outputs": [],
   "source": [
    "def clear():\n",
    "    nameEn.delete(0,END)\n",
    "    perEn.delete(0,END)\n",
    "    bklEn.delete(0,END)\n",
    "    intEn.delete(0,END)\n",
    "    frEn.delete(0,END)\n",
    "    comsEn.delete(0,END)\n",
    "    t1.delete(1.0,END)\n",
    "    t2.delete(1.0,END)\n",
    "    t3.delete(1.0,END)"
   ]
  },
  {
   "cell_type": "code",
   "execution_count": 10,
   "metadata": {
    "collapsed": false,
    "deletable": true,
    "editable": true
   },
   "outputs": [],
   "source": [
    "from sklearn import svm,datasets\n",
    "\n",
    "# functions\n",
    "def decisiontree():\n",
    "#     t1.delete(0,END)\n",
    "    inputTest = np.array([[float(perEn.get()), float(bklEn.get()),float(intEn.get()),float(frEn.get()),float(comsEn.get())]]) \n",
    "    predicted = clf.predict(inputTest)\n",
    "    if predicted == [1]:\n",
    "        t1.insert(END, \"Hired\")\n",
    "    else:\n",
    "        t1.insert(END, \"Not Hired\")\n",
    "        \n",
    "def Randomforest():\n",
    "#     t2.delete(0,END)\n",
    "    inputTest = np.array([[float(perEn.get()), float(bklEn.get()),float(intEn.get()),float(frEn.get()),float(comsEn.get())]]) \n",
    "    predicted = clf2.predict(inputTest)\n",
    "    if predicted == [1]:\n",
    "        t2.insert(END, \"Hired\")\n",
    "    else:\n",
    "        t2.insert(END, \"Not Hired\")\n",
    " \n",
    "def svccalc():\n",
    "    C = 2.0\n",
    "    svc = svm.SVC(kernel = 'linear',C=C).fit(X_train,y_train)\n",
    "    inputTest = np.array([[float(perEn.get()), float(bklEn.get()),float(intEn.get()),float(frEn.get()),float(comsEn.get())]]) \n",
    "    predicted = svc.predict(inputTest)\n",
    "    if predicted == [1]:\n",
    "        t3.insert(END, \"Hired\")\n",
    "    else:\n",
    "        t3.insert(END, \"Not Hired\")\n"
   ]
  },
  {
   "cell_type": "code",
   "execution_count": 11,
   "metadata": {
    "collapsed": false,
    "deletable": true,
    "editable": true
   },
   "outputs": [],
   "source": [
    "#giving values to all the fields\n",
    "# perEn.insert(END, df[\"PERCENTAGE\"].get(df[\"NAME\":nameEn.get()])"
   ]
  },
  {
   "cell_type": "code",
   "execution_count": 12,
   "metadata": {
    "collapsed": false,
    "deletable": true,
    "editable": true
   },
   "outputs": [],
   "source": [
    "\n",
    "# buttons\n",
    "\n",
    "dst = Button(root, text=\"DecisionTree\", command=decisiontree,bg=\"blue\",fg=\"white\")\n",
    "dst.grid(row=2, column=3)\n",
    "\n",
    "\n",
    "rnf = Button(root, text=\"Randomforest\", command=Randomforest,bg=\"blue\",fg=\"white\")\n",
    "rnf.grid(row=3, column=3)\n",
    "\n",
    "svcb = Button(root,text = \"SVC\",command = svccalc,bg = \"blue\",fg = \"white\")\n",
    "svcb.grid(row = 4,column = 3)\n",
    "\n",
    "clear = Button(root,text=\"CLear\",command = clear,bg=\"blue\",fg = \"white\")\n",
    "clear.grid(row = 5,column = 3)\n",
    "\n",
    "#textfileds\n",
    "t1 = Text(root, height=1, width=20,bg=\"navyblue\",fg=\"white\")\n",
    "t1.grid(row=8, column=1)\n",
    "\n",
    " \n",
    "t2 = Text(root, height=1, width=20,bg=\"navyblue\",fg=\"white\")\n",
    "t2.grid(row=9, column=1)\n",
    "\n",
    "t3 = Text(root, height=1, width=20,bg=\"navyblue\",fg=\"white\")\n",
    "t3.grid(row=10, column=1)"
   ]
  },
  {
   "cell_type": "code",
   "execution_count": 13,
   "metadata": {
    "collapsed": false,
    "deletable": true,
    "editable": true
   },
   "outputs": [],
   "source": [
    "\n",
    "root.mainloop()"
   ]
  },
  {
   "cell_type": "code",
   "execution_count": null,
   "metadata": {
    "collapsed": true,
    "deletable": true,
    "editable": true
   },
   "outputs": [],
   "source": []
  }
 ],
 "metadata": {
  "kernelspec": {
   "display_name": "Python 3",
   "language": "python",
   "name": "python3"
  },
  "language_info": {
   "codemirror_mode": {
    "name": "ipython",
    "version": 3
   },
   "file_extension": ".py",
   "mimetype": "text/x-python",
   "name": "python",
   "nbconvert_exporter": "python",
   "pygments_lexer": "ipython3",
   "version": "3.5.2"
  }
 },
 "nbformat": 4,
 "nbformat_minor": 2
}
