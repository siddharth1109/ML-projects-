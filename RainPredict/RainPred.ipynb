{
 "cells": [
  {
   "cell_type": "code",
   "execution_count": 1,
   "metadata": {
    "collapsed": false,
    "deletable": true,
    "editable": true
   },
   "outputs": [],
   "source": [
    "from tkinter import *\n",
    "import numpy as np \n",
    "import pandas as pd\n",
    "\n",
    "df = pd.read_csv(\"RainData.csv\")"
   ]
  },
  {
   "cell_type": "code",
   "execution_count": 2,
   "metadata": {
    "collapsed": false,
    "deletable": true,
    "editable": true
   },
   "outputs": [
    {
     "data": {
      "text/html": [
       "<div>\n",
       "<style>\n",
       "    .dataframe thead tr:only-child th {\n",
       "        text-align: right;\n",
       "    }\n",
       "\n",
       "    .dataframe thead th {\n",
       "        text-align: left;\n",
       "    }\n",
       "\n",
       "    .dataframe tbody tr th {\n",
       "        vertical-align: top;\n",
       "    }\n",
       "</style>\n",
       "<table border=\"1\" class=\"dataframe\">\n",
       "  <thead>\n",
       "    <tr style=\"text-align: right;\">\n",
       "      <th></th>\n",
       "      <th>year</th>\n",
       "      <th>month</th>\n",
       "      <th>day</th>\n",
       "      <th>hour</th>\n",
       "      <th>pm2.5</th>\n",
       "      <th>DEWP</th>\n",
       "      <th>TEMP</th>\n",
       "      <th>PRES</th>\n",
       "      <th>wind speed</th>\n",
       "      <th>hours of rain</th>\n",
       "    </tr>\n",
       "  </thead>\n",
       "  <tbody>\n",
       "    <tr>\n",
       "      <th>0</th>\n",
       "      <td>2012</td>\n",
       "      <td>1</td>\n",
       "      <td>23</td>\n",
       "      <td>9</td>\n",
       "      <td>66</td>\n",
       "      <td>-20</td>\n",
       "      <td>-8</td>\n",
       "      <td>1030.0</td>\n",
       "      <td>0.89</td>\n",
       "      <td>0</td>\n",
       "    </tr>\n",
       "    <tr>\n",
       "      <th>1</th>\n",
       "      <td>2012</td>\n",
       "      <td>1</td>\n",
       "      <td>23</td>\n",
       "      <td>10</td>\n",
       "      <td>33</td>\n",
       "      <td>-22</td>\n",
       "      <td>-6</td>\n",
       "      <td>1030.0</td>\n",
       "      <td>1.78</td>\n",
       "      <td>0</td>\n",
       "    </tr>\n",
       "    <tr>\n",
       "      <th>2</th>\n",
       "      <td>2012</td>\n",
       "      <td>1</td>\n",
       "      <td>23</td>\n",
       "      <td>11</td>\n",
       "      <td>36</td>\n",
       "      <td>-24</td>\n",
       "      <td>-3</td>\n",
       "      <td>1029.0</td>\n",
       "      <td>8.05</td>\n",
       "      <td>0</td>\n",
       "    </tr>\n",
       "    <tr>\n",
       "      <th>3</th>\n",
       "      <td>2012</td>\n",
       "      <td>1</td>\n",
       "      <td>23</td>\n",
       "      <td>12</td>\n",
       "      <td>27</td>\n",
       "      <td>-23</td>\n",
       "      <td>-2</td>\n",
       "      <td>1028.0</td>\n",
       "      <td>16.10</td>\n",
       "      <td>0</td>\n",
       "    </tr>\n",
       "    <tr>\n",
       "      <th>4</th>\n",
       "      <td>2012</td>\n",
       "      <td>1</td>\n",
       "      <td>23</td>\n",
       "      <td>13</td>\n",
       "      <td>27</td>\n",
       "      <td>-24</td>\n",
       "      <td>-2</td>\n",
       "      <td>1027.0</td>\n",
       "      <td>23.25</td>\n",
       "      <td>0</td>\n",
       "    </tr>\n",
       "  </tbody>\n",
       "</table>\n",
       "</div>"
      ],
      "text/plain": [
       "   year  month  day  hour  pm2.5  DEWP  TEMP    PRES  wind speed  \\\n",
       "0  2012      1   23     9     66   -20    -8  1030.0        0.89   \n",
       "1  2012      1   23    10     33   -22    -6  1030.0        1.78   \n",
       "2  2012      1   23    11     36   -24    -3  1029.0        8.05   \n",
       "3  2012      1   23    12     27   -23    -2  1028.0       16.10   \n",
       "4  2012      1   23    13     27   -24    -2  1027.0       23.25   \n",
       "\n",
       "   hours of rain  \n",
       "0              0  \n",
       "1              0  \n",
       "2              0  \n",
       "3              0  \n",
       "4              0  "
      ]
     },
     "execution_count": 2,
     "metadata": {},
     "output_type": "execute_result"
    }
   ],
   "source": [
    "df.head()"
   ]
  },
  {
   "cell_type": "code",
   "execution_count": 3,
   "metadata": {
    "collapsed": false,
    "deletable": true,
    "editable": true
   },
   "outputs": [
    {
     "data": {
      "text/plain": [
       "''"
      ]
     },
     "execution_count": 3,
     "metadata": {},
     "output_type": "execute_result"
    }
   ],
   "source": [
    "root = Tk()\n",
    "root.title(\"Welcome\")"
   ]
  },
  {
   "cell_type": "code",
   "execution_count": 4,
   "metadata": {
    "collapsed": true,
    "deletable": true,
    "editable": true
   },
   "outputs": [],
   "source": [
    "\n",
    "# entry variables \n",
    "year = StringVar()\n",
    "month = StringVar()\n",
    "day = StringVar()\n",
    "hour = StringVar()\n",
    "pm = StringVar()\n",
    "dew = StringVar()\n",
    "temp = StringVar()\n",
    "pres = StringVar()\n",
    "wspd = StringVar()"
   ]
  },
  {
   "cell_type": "code",
   "execution_count": 5,
   "metadata": {
    "collapsed": false,
    "deletable": true,
    "editable": true
   },
   "outputs": [],
   "source": [
    "# background photo \n",
    "\n",
    "image1 = PhotoImage(file=\"giphy.gif\")\n",
    "\n",
    "panel1 = Label(root, image=image1)\n",
    "panel1.place(x=0, y=0, relwidth=1, relheight=1)\n",
    "\n",
    "\n",
    "# Heading\n",
    "w2 = Label(root, justify=LEFT, text=\"For how many hours will it rain today\")\n",
    "w2.config(font=(\"Elephant\", 32))\n",
    "w2.grid(row=0, column=0, columnspan=2, padx=150, pady=50)\n",
    "\n"
   ]
  },
  {
   "cell_type": "code",
   "execution_count": 6,
   "metadata": {
    "collapsed": true,
    "deletable": true,
    "editable": true
   },
   "outputs": [],
   "source": [
    "# lables\n",
    "yearlb = Label(root, text=\"YEAR\", fg=\"white\", bg=\"navyblue\")\n",
    "yearlb.grid(row=1, column=0, pady=10, sticky=W)\n",
    "\n",
    "monthlb = Label(root, text=\"MONTH\", fg=\"white\", bg=\"navyblue\")\n",
    "monthlb.grid(row=2, column=0, pady=10, sticky=W)\n",
    "\n",
    "daylb = Label(root, text=\"DAY\", fg=\"white\", bg=\"navyblue\")\n",
    "daylb.grid(row=3, column=0, pady=10, sticky=W)\n",
    "\n",
    "hourlb = Label(root, text=\"HOUR\", fg=\"white\", bg=\"navyblue\")\n",
    "hourlb.grid(row=4, column=0, pady=10, sticky=W)\n",
    "\n",
    "pmlb = Label(root, text=\"PM 2.5\", fg=\"white\", bg=\"navyblue\")\n",
    "pmlb.grid(row=5, column=0, pady=10, sticky=W)\n",
    "\n",
    "\n",
    "dewlb = Label(root, text=\"DEW POINT\", fg=\"white\", bg=\"navyblue\")\n",
    "dewlb.grid(row=6, column=0, pady=10, sticky=W)\n",
    "\n",
    "templb = Label(root, text=\"TEMPERATURE\", fg=\"white\", bg=\"navyblue\")\n",
    "templb.grid(row=7, column=0, pady=10, sticky=W)\n",
    "\n",
    "preslb = Label(root, text=\"PRESSURE\", fg=\"white\", bg=\"navyblue\")\n",
    "preslb.grid(row=8, column=0, pady=10, sticky=W)\n",
    "\n",
    "wspdlb = Label(root, text=\"WINDSPEED\", fg=\"white\", bg=\"navyblue\")\n",
    "wspdlb.grid(row=9, column=0, pady=10, sticky=W)\n",
    "\n",
    "hrainlb = Label(root, text=\"HOURS OF RAIN \", fg=\"white\", bg=\"navyblue\")\n",
    "hrainlb.grid(row=10, column=0, pady=10, sticky=W)\n",
    "\n",
    "\n",
    "# enteries\n",
    "\n",
    "yearEn = Entry(root, textvariable=year)\n",
    "yearEn.grid(row=1, column=2)\n",
    "\n",
    "monthEn = Entry(root, textvariable=month)\n",
    "monthEn.grid(row=2, column=2)\n",
    "\n",
    "dayEn = Entry(root, textvariable=day)\n",
    "dayEn.grid(row=3, column=2)\n",
    "\n",
    "hourEn = Entry(root, textvariable=hour)\n",
    "hourEn.grid(row=4, column=2)\n",
    "\n",
    "pmEn = Entry(root, textvariable=pm)\n",
    "pmEn.grid(row=5, column=2)\n",
    "\n",
    "dewEn = Entry(root, textvariable=dew)\n",
    "dewEn.grid(row=6, column=2)\n",
    "\n",
    "tempEn = Entry(root, textvariable=temp)\n",
    "tempEn.grid(row=7, column=2)\n",
    "\n",
    "presEN = Entry(root, textvariable=pres)\n",
    "presEN.grid(row=8, column=2)\n",
    "\n",
    "WspdEn = Entry(root, textvariable=wspd)\n",
    "WspdEn.grid(row=9, column=2)\n",
    "\n"
   ]
  },
  {
   "cell_type": "code",
   "execution_count": 7,
   "metadata": {
    "collapsed": false,
    "deletable": true,
    "editable": true
   },
   "outputs": [],
   "source": [
    "feature_cols = [\"year\",\"month\",\"day\",\"hour\",\"pm2.5\",\"DEWP\",\"TEMP\",\"PRES\",\"wind speed\"]\n",
    "X = df[feature_cols]\n",
    "y = df[\"hours of rain\"]\n",
    "\n"
   ]
  },
  {
   "cell_type": "code",
   "execution_count": 8,
   "metadata": {
    "collapsed": false,
    "deletable": true,
    "editable": true
   },
   "outputs": [
    {
     "name": "stderr",
     "output_type": "stream",
     "text": [
      "C:\\Users\\Siddharth\\AppData\\Local\\Enthought\\Canopy\\edm\\envs\\User\\lib\\site-packages\\sklearn\\cross_validation.py:44: DeprecationWarning: This module was deprecated in version 0.18 in favor of the model_selection module into which all the refactored classes and functions are moved. Also note that the interface of the new CV iterators are different from that of this module. This module will be removed in 0.20.\n",
      "  \"This module will be removed in 0.20.\", DeprecationWarning)\n"
     ]
    }
   ],
   "source": [
    " from sklearn.linear_model import LinearRegression\n",
    "from sklearn.cross_validation import train_test_split\n",
    "X_train, X_test, y_train, y_test = train_test_split(X, y, test_size=0.2, random_state=0)"
   ]
  },
  {
   "cell_type": "code",
   "execution_count": 9,
   "metadata": {
    "collapsed": false,
    "deletable": true,
    "editable": true
   },
   "outputs": [],
   "source": [
    "from sklearn.ensemble import RandomForestClassifier\n",
    "\n",
    "clf = RandomForestClassifier(n_estimators = 20)\n",
    "clf = clf.fit(X_train,y_train)\n"
   ]
  },
  {
   "cell_type": "code",
   "execution_count": 10,
   "metadata": {
    "collapsed": false,
    "deletable": true,
    "editable": true
   },
   "outputs": [
    {
     "name": "stdout",
     "output_type": "stream",
     "text": [
      "0.955555555556\n"
     ]
    }
   ],
   "source": [
    "from sklearn import metrics\n",
    "predicted = clf.predict(X_test)\n",
    "print(metrics.accuracy_score(y_test,predicted))"
   ]
  },
  {
   "cell_type": "code",
   "execution_count": 11,
   "metadata": {
    "collapsed": false,
    "deletable": true,
    "editable": true
   },
   "outputs": [],
   "source": [
    "# t3.insert(END,\"The predicted value is:\"+metrics.accuracy_score(y_test,predicted+\"% accurate\")"
   ]
  },
  {
   "cell_type": "code",
   "execution_count": 12,
   "metadata": {
    "collapsed": true,
    "deletable": true,
    "editable": true
   },
   "outputs": [],
   "source": [
    "# function\n",
    "def calc():\n",
    "    inputTest = np.array([[float(yearEn.get()), float(monthEn.get()),float(dayEn.get()),\n",
    "                           float(hourEn.get()),float(pmEn.get()),float(dewEn.get()),float(tempEn.get()),\n",
    "                           float(presEN.get()),float(WspdEn.get())]])\n",
    "    \n",
    "    predicted = clf.predict(inputTest)\n",
    "    t1.insert(END,predicted)\n"
   ]
  },
  {
   "cell_type": "code",
   "execution_count": 13,
   "metadata": {
    "collapsed": true,
    "deletable": true,
    "editable": true
   },
   "outputs": [],
   "source": [
    "def clear():\n",
    "    yearEn.delete(0,END)\n",
    "    monthEn.delete(0,END)\n",
    "    dayEn.delete(0,END)\n",
    "    hourEn.delete(0,END)\n",
    "    pmEn.delete(0,END)\n",
    "    dewEn.delete(0,END)\n",
    "    tempEn.delete(0,END)\n",
    "    presEn.delete(0,END)\n",
    "    WspdEn.delete(0,END)\n",
    "    t1.delete(1.0,END)\n"
   ]
  },
  {
   "cell_type": "code",
   "execution_count": 14,
   "metadata": {
    "collapsed": true,
    "deletable": true,
    "editable": true
   },
   "outputs": [],
   "source": [
    "# buttons\n",
    "cal = Button(root, text=\"    Go for it!     \", command=calc, bg=\"white\", fg=\"red\")\n",
    "cal.grid(row=5, column=3, padx=20, rowspan=2)\n",
    "cal.config(font=(\"Elephant\", 12))\n",
    "\n",
    "clear = Button(root,text=\"CLear\",command = clear,bg=\"blue\",fg = \"white\")\n",
    "clear.grid(row = 7,column = 3,padx = 20,rowspan = 2)\n",
    "\n",
    "# textfileds\n",
    "t1 = Text(root, height=1, width=20, bg=\"white\", fg=\"red\")\n",
    "t1.grid(row=10, column=1)\n",
    "\n",
    "\n"
   ]
  },
  {
   "cell_type": "code",
   "execution_count": 15,
   "metadata": {
    "collapsed": false,
    "deletable": true,
    "editable": true
   },
   "outputs": [
    {
     "name": "stderr",
     "output_type": "stream",
     "text": [
      "Exception in Tkinter callback\n",
      "Traceback (most recent call last):\n",
      "  File \"C:\\Users\\Siddharth\\AppData\\Local\\Enthought\\Canopy\\edm\\envs\\User\\lib\\tkinter\\__init__.py\", line 1550, in __call__\n",
      "    return self.func(*args)\n",
      "  File \"<ipython-input-13-76ad01bba55b>\", line 9, in clear\n",
      "    presEn.delete(0,END)\n",
      "NameError: name 'presEn' is not defined\n",
      "Exception in Tkinter callback\n",
      "Traceback (most recent call last):\n",
      "  File \"C:\\Users\\Siddharth\\AppData\\Local\\Enthought\\Canopy\\edm\\envs\\User\\lib\\tkinter\\__init__.py\", line 1550, in __call__\n",
      "    return self.func(*args)\n",
      "  File \"<ipython-input-12-4647e7b6b89b>\", line 3, in calc\n",
      "    inputTest = np.array([[float(yearEn.get()), float(monthEn.get()),float(dayEn.get()),\n",
      "ValueError: could not convert string to float: \n"
     ]
    }
   ],
   "source": [
    "root.mainloop()"
   ]
  },
  {
   "cell_type": "code",
   "execution_count": null,
   "metadata": {
    "collapsed": true,
    "deletable": true,
    "editable": true
   },
   "outputs": [],
   "source": []
  }
 ],
 "metadata": {
  "kernelspec": {
   "display_name": "Python 3",
   "language": "python",
   "name": "python3"
  },
  "language_info": {
   "codemirror_mode": {
    "name": "ipython",
    "version": 3
   },
   "file_extension": ".py",
   "mimetype": "text/x-python",
   "name": "python",
   "nbconvert_exporter": "python",
   "pygments_lexer": "ipython3",
   "version": "3.5.2"
  }
 },
 "nbformat": 4,
 "nbformat_minor": 2
}
